{
  "nbformat": 4,
  "nbformat_minor": 0,
  "metadata": {
    "colab": {
      "provenance": [],
      "authorship_tag": "ABX9TyMeOkOp78qnUQyPZXw0qypc",
      "include_colab_link": true
    },
    "kernelspec": {
      "name": "python3",
      "display_name": "Python 3"
    },
    "language_info": {
      "name": "python"
    }
  },
  "cells": [
    {
      "cell_type": "markdown",
      "metadata": {
        "id": "view-in-github",
        "colab_type": "text"
      },
      "source": [
        "<a href=\"https://colab.research.google.com/github/gretagh93/ML-Crash-Course-Google/blob/main/Numpy_and_Pandas.ipynb\" target=\"_parent\"><img src=\"https://colab.research.google.com/assets/colab-badge.svg\" alt=\"Open In Colab\"/></a>"
      ]
    },
    {
      "cell_type": "markdown",
      "source": [
        "# Numpy and Pandas"
      ],
      "metadata": {
        "id": "haK131LfrltC"
      }
    },
    {
      "cell_type": "markdown",
      "source": [
        "Reference: https://www.kaggle.com/code/residentmario/indexing-selecting-assigning"
      ],
      "metadata": {
        "id": "ED9CFNVwyMSF"
      }
    },
    {
      "cell_type": "markdown",
      "source": [
        "## Create an array"
      ],
      "metadata": {
        "id": "m3Rk4BuSueP8"
      }
    },
    {
      "cell_type": "code",
      "source": [
        "# Numpy Library\n",
        "import numpy as np \n",
        "\n",
        "# Create a sequence of integers from 6 to 20 (inclusive)\n",
        "seq_int = np.arange(6, 21)\n",
        "\n",
        "# Operations with arrays\n",
        "seq_int_op = 6 * seq_int + 2\n",
        "\n",
        "# Create a random sequence of float values of the same length of seq.\n",
        "seq_float_rand = np.random.random([seq_int.size])\n",
        "\n",
        "# Operate the two arays\n",
        "seq_sum = seq_int_op + seq_float_rand\n",
        "\n",
        "print(seq_sum)"
      ],
      "metadata": {
        "colab": {
          "base_uri": "https://localhost:8080/"
        },
        "id": "aORWGxIts4YB",
        "outputId": "603971d7-ac95-4c69-f7b5-5855bbe0d680"
      },
      "execution_count": 1,
      "outputs": [
        {
          "output_type": "stream",
          "name": "stdout",
          "text": [
            "[ 38.79358159  44.76299723  50.47805807  56.8642485   62.20515765\n",
            "  68.96308092  74.09158421  80.21947026  86.47755833  92.36016095\n",
            "  98.31322828 104.39258582 110.22698498 116.78529713 122.94097771]\n"
          ]
        }
      ]
    },
    {
      "cell_type": "markdown",
      "source": [
        "## Create a dataframe"
      ],
      "metadata": {
        "id": "BqPbyyWwujFT"
      }
    },
    {
      "cell_type": "code",
      "source": [
        "import pandas as pd\n",
        "\n",
        "# Create the names of the features\n",
        "col_names = ['Round1', 'Round2', 'Round3']\n",
        "\n",
        "# Create a matrix 4x3 with random integers.\n",
        "data = np.random.randint(low=0, high=10, size=(4, 3))\n",
        "\n",
        "# Create a DataFrame.\n",
        "df = pd.DataFrame(data=data, columns=col_names)\n",
        "\n",
        "print(df)"
      ],
      "metadata": {
        "colab": {
          "base_uri": "https://localhost:8080/"
        },
        "id": "1Ti1kmfSvDAX",
        "outputId": "0b584eb1-4cca-4d94-9eb8-e65eefcbdf8e"
      },
      "execution_count": 5,
      "outputs": [
        {
          "output_type": "stream",
          "name": "stdout",
          "text": [
            "   Round1  Round2  Round3\n",
            "0       6       2       6\n",
            "1       8       5       1\n",
            "2       2       9       7\n",
            "3       4       8       3\n"
          ]
        }
      ]
    },
    {
      "cell_type": "markdown",
      "source": [
        "## References"
      ],
      "metadata": {
        "id": "_-dKcprCw2Io"
      }
    },
    {
      "cell_type": "code",
      "source": [
        "# Without pandas\n",
        "\n",
        "# Select the names of the features\n",
        "print(df.columns)\n",
        "\n",
        "# Select a column\n",
        "print(df.Round1)\n",
        "# df[\"Round1\"]\n",
        "\n",
        "# Select a value using a column and a row\n",
        "print(df[\"Round1\"][0])"
      ],
      "metadata": {
        "colab": {
          "base_uri": "https://localhost:8080/"
        },
        "id": "z-q8B1kPw3z8",
        "outputId": "3cb60816-99c2-45cd-af91-21ff523a3d2e"
      },
      "execution_count": 13,
      "outputs": [
        {
          "output_type": "stream",
          "name": "stdout",
          "text": [
            "Index(['Round1', 'Round2', 'Round3'], dtype='object')\n",
            "0    6\n",
            "1    8\n",
            "2    2\n",
            "3    4\n",
            "Name: Round1, dtype: int64\n",
            "6\n"
          ]
        }
      ]
    },
    {
      "cell_type": "code",
      "source": [
        "# Using pandas\n",
        "\n",
        "# Select a column\n",
        "print(df.iloc[:, 0])\n",
        "df.loc[0, 'Round1']\n",
        "\n",
        "# Select a row\n",
        "print(df.iloc[1])\n",
        "print(df.iloc[-1])\n",
        "\n",
        "# Select values using columns and rows\n",
        "df.iloc[[0, 2], 1]\n",
        "df.loc[:, [\"Round2\", \"Round3\"]]"
      ],
      "metadata": {
        "colab": {
          "base_uri": "https://localhost:8080/",
          "height": 400
        },
        "id": "OA3yQ1WD_m_f",
        "outputId": "14ad4f26-46ec-4d69-9538-07f179db40cf"
      },
      "execution_count": 23,
      "outputs": [
        {
          "output_type": "stream",
          "name": "stdout",
          "text": [
            "0    6\n",
            "1    8\n",
            "2    2\n",
            "3    4\n",
            "Name: Round1, dtype: int64\n",
            "Round1    8\n",
            "Round2    5\n",
            "Round3    1\n",
            "Name: 1, dtype: int64\n",
            "Round1    4\n",
            "Round2    8\n",
            "Round3    3\n",
            "Name: 3, dtype: int64\n"
          ]
        },
        {
          "output_type": "execute_result",
          "data": {
            "text/plain": [
              "   Round2  Round3\n",
              "0       2       6\n",
              "1       5       1\n",
              "2       9       7\n",
              "3       8       3"
            ],
            "text/html": [
              "\n",
              "  <div id=\"df-a6f44029-bee4-4fb7-a8fd-196317dac69a\">\n",
              "    <div class=\"colab-df-container\">\n",
              "      <div>\n",
              "<style scoped>\n",
              "    .dataframe tbody tr th:only-of-type {\n",
              "        vertical-align: middle;\n",
              "    }\n",
              "\n",
              "    .dataframe tbody tr th {\n",
              "        vertical-align: top;\n",
              "    }\n",
              "\n",
              "    .dataframe thead th {\n",
              "        text-align: right;\n",
              "    }\n",
              "</style>\n",
              "<table border=\"1\" class=\"dataframe\">\n",
              "  <thead>\n",
              "    <tr style=\"text-align: right;\">\n",
              "      <th></th>\n",
              "      <th>Round2</th>\n",
              "      <th>Round3</th>\n",
              "    </tr>\n",
              "  </thead>\n",
              "  <tbody>\n",
              "    <tr>\n",
              "      <th>0</th>\n",
              "      <td>2</td>\n",
              "      <td>6</td>\n",
              "    </tr>\n",
              "    <tr>\n",
              "      <th>1</th>\n",
              "      <td>5</td>\n",
              "      <td>1</td>\n",
              "    </tr>\n",
              "    <tr>\n",
              "      <th>2</th>\n",
              "      <td>9</td>\n",
              "      <td>7</td>\n",
              "    </tr>\n",
              "    <tr>\n",
              "      <th>3</th>\n",
              "      <td>8</td>\n",
              "      <td>3</td>\n",
              "    </tr>\n",
              "  </tbody>\n",
              "</table>\n",
              "</div>\n",
              "      <button class=\"colab-df-convert\" onclick=\"convertToInteractive('df-a6f44029-bee4-4fb7-a8fd-196317dac69a')\"\n",
              "              title=\"Convert this dataframe to an interactive table.\"\n",
              "              style=\"display:none;\">\n",
              "        \n",
              "  <svg xmlns=\"http://www.w3.org/2000/svg\" height=\"24px\"viewBox=\"0 0 24 24\"\n",
              "       width=\"24px\">\n",
              "    <path d=\"M0 0h24v24H0V0z\" fill=\"none\"/>\n",
              "    <path d=\"M18.56 5.44l.94 2.06.94-2.06 2.06-.94-2.06-.94-.94-2.06-.94 2.06-2.06.94zm-11 1L8.5 8.5l.94-2.06 2.06-.94-2.06-.94L8.5 2.5l-.94 2.06-2.06.94zm10 10l.94 2.06.94-2.06 2.06-.94-2.06-.94-.94-2.06-.94 2.06-2.06.94z\"/><path d=\"M17.41 7.96l-1.37-1.37c-.4-.4-.92-.59-1.43-.59-.52 0-1.04.2-1.43.59L10.3 9.45l-7.72 7.72c-.78.78-.78 2.05 0 2.83L4 21.41c.39.39.9.59 1.41.59.51 0 1.02-.2 1.41-.59l7.78-7.78 2.81-2.81c.8-.78.8-2.07 0-2.86zM5.41 20L4 18.59l7.72-7.72 1.47 1.35L5.41 20z\"/>\n",
              "  </svg>\n",
              "      </button>\n",
              "      \n",
              "  <style>\n",
              "    .colab-df-container {\n",
              "      display:flex;\n",
              "      flex-wrap:wrap;\n",
              "      gap: 12px;\n",
              "    }\n",
              "\n",
              "    .colab-df-convert {\n",
              "      background-color: #E8F0FE;\n",
              "      border: none;\n",
              "      border-radius: 50%;\n",
              "      cursor: pointer;\n",
              "      display: none;\n",
              "      fill: #1967D2;\n",
              "      height: 32px;\n",
              "      padding: 0 0 0 0;\n",
              "      width: 32px;\n",
              "    }\n",
              "\n",
              "    .colab-df-convert:hover {\n",
              "      background-color: #E2EBFA;\n",
              "      box-shadow: 0px 1px 2px rgba(60, 64, 67, 0.3), 0px 1px 3px 1px rgba(60, 64, 67, 0.15);\n",
              "      fill: #174EA6;\n",
              "    }\n",
              "\n",
              "    [theme=dark] .colab-df-convert {\n",
              "      background-color: #3B4455;\n",
              "      fill: #D2E3FC;\n",
              "    }\n",
              "\n",
              "    [theme=dark] .colab-df-convert:hover {\n",
              "      background-color: #434B5C;\n",
              "      box-shadow: 0px 1px 3px 1px rgba(0, 0, 0, 0.15);\n",
              "      filter: drop-shadow(0px 1px 2px rgba(0, 0, 0, 0.3));\n",
              "      fill: #FFFFFF;\n",
              "    }\n",
              "  </style>\n",
              "\n",
              "      <script>\n",
              "        const buttonEl =\n",
              "          document.querySelector('#df-a6f44029-bee4-4fb7-a8fd-196317dac69a button.colab-df-convert');\n",
              "        buttonEl.style.display =\n",
              "          google.colab.kernel.accessAllowed ? 'block' : 'none';\n",
              "\n",
              "        async function convertToInteractive(key) {\n",
              "          const element = document.querySelector('#df-a6f44029-bee4-4fb7-a8fd-196317dac69a');\n",
              "          const dataTable =\n",
              "            await google.colab.kernel.invokeFunction('convertToInteractive',\n",
              "                                                     [key], {});\n",
              "          if (!dataTable) return;\n",
              "\n",
              "          const docLinkHtml = 'Like what you see? Visit the ' +\n",
              "            '<a target=\"_blank\" href=https://colab.research.google.com/notebooks/data_table.ipynb>data table notebook</a>'\n",
              "            + ' to learn more about interactive tables.';\n",
              "          element.innerHTML = '';\n",
              "          dataTable['output_type'] = 'display_data';\n",
              "          await google.colab.output.renderOutput(dataTable, element);\n",
              "          const docLink = document.createElement('div');\n",
              "          docLink.innerHTML = docLinkHtml;\n",
              "          element.appendChild(docLink);\n",
              "        }\n",
              "      </script>\n",
              "    </div>\n",
              "  </div>\n",
              "  "
            ]
          },
          "metadata": {},
          "execution_count": 23
        }
      ]
    },
    {
      "cell_type": "code",
      "source": [
        "# Conditionals\n",
        "\n",
        "print(df.Round1 == 2)\n",
        "\n",
        "print(df.loc[df.Round1 == 2])\n",
        "\n",
        "print(df.loc[df.Round1.isin([2, 6])])\n",
        "\n",
        "print(df.loc[df.Round1.isnull()])\n"
      ],
      "metadata": {
        "colab": {
          "base_uri": "https://localhost:8080/"
        },
        "id": "ACUC_mMWCUYn",
        "outputId": "95a50681-3839-4077-b863-7c412d33de71"
      },
      "execution_count": 29,
      "outputs": [
        {
          "output_type": "stream",
          "name": "stdout",
          "text": [
            "0    False\n",
            "1    False\n",
            "2     True\n",
            "3    False\n",
            "Name: Round1, dtype: bool\n",
            "   Round1  Round2  Round3\n",
            "2       2       9       7\n",
            "   Round1  Round2  Round3\n",
            "0       6       2       6\n",
            "2       2       9       7\n",
            "Empty DataFrame\n",
            "Columns: [Round1, Round2, Round3]\n",
            "Index: []\n"
          ]
        }
      ]
    }
  ]
}